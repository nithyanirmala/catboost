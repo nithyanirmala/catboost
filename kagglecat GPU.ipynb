{
  "cells": [
    {
      "cell_type": "markdown",
      "metadata": {
        "id": "view-in-github",
        "colab_type": "text"
      },
      "source": [
        "<a href=\"https://colab.research.google.com/github/nithyanirmala/catboost/blob/master/kagglecat%20GPU.ipynb\" target=\"_parent\"><img src=\"https://colab.research.google.com/assets/colab-badge.svg\" alt=\"Open In Colab\"/></a>"
      ]
    },
    {
      "cell_type": "code",
      "execution_count": 1,
      "id": "366dcf53",
      "metadata": {
        "colab": {
          "base_uri": "https://localhost:8080/"
        },
        "id": "366dcf53",
        "outputId": "3d854e1a-6092-480d-a5a5-ed5cfa7a0add"
      },
      "outputs": [
        {
          "output_type": "stream",
          "name": "stdout",
          "text": [
            "Looking in indexes: https://pypi.org/simple, https://us-python.pkg.dev/colab-wheels/public/simple/\n",
            "Collecting catboost\n",
            "  Downloading catboost-1.2-cp310-cp310-manylinux2014_x86_64.whl (98.6 MB)\n",
            "\u001b[2K     \u001b[90m━━━━━━━━━━━━━━━━━━━━━━━━━━━━━━━━━━━━━━━━\u001b[0m \u001b[32m98.6/98.6 MB\u001b[0m \u001b[31m9.2 MB/s\u001b[0m eta \u001b[36m0:00:00\u001b[0m\n",
            "\u001b[?25hRequirement already satisfied: graphviz in /usr/local/lib/python3.10/dist-packages (from catboost) (0.20.1)\n",
            "Requirement already satisfied: matplotlib in /usr/local/lib/python3.10/dist-packages (from catboost) (3.7.1)\n",
            "Requirement already satisfied: numpy>=1.16.0 in /usr/local/lib/python3.10/dist-packages (from catboost) (1.22.4)\n",
            "Requirement already satisfied: pandas>=0.24 in /usr/local/lib/python3.10/dist-packages (from catboost) (1.5.3)\n",
            "Requirement already satisfied: scipy in /usr/local/lib/python3.10/dist-packages (from catboost) (1.10.1)\n",
            "Requirement already satisfied: plotly in /usr/local/lib/python3.10/dist-packages (from catboost) (5.13.1)\n",
            "Requirement already satisfied: six in /usr/local/lib/python3.10/dist-packages (from catboost) (1.16.0)\n",
            "Requirement already satisfied: python-dateutil>=2.8.1 in /usr/local/lib/python3.10/dist-packages (from pandas>=0.24->catboost) (2.8.2)\n",
            "Requirement already satisfied: pytz>=2020.1 in /usr/local/lib/python3.10/dist-packages (from pandas>=0.24->catboost) (2022.7.1)\n",
            "Requirement already satisfied: contourpy>=1.0.1 in /usr/local/lib/python3.10/dist-packages (from matplotlib->catboost) (1.0.7)\n",
            "Requirement already satisfied: cycler>=0.10 in /usr/local/lib/python3.10/dist-packages (from matplotlib->catboost) (0.11.0)\n",
            "Requirement already satisfied: fonttools>=4.22.0 in /usr/local/lib/python3.10/dist-packages (from matplotlib->catboost) (4.39.3)\n",
            "Requirement already satisfied: kiwisolver>=1.0.1 in /usr/local/lib/python3.10/dist-packages (from matplotlib->catboost) (1.4.4)\n",
            "Requirement already satisfied: packaging>=20.0 in /usr/local/lib/python3.10/dist-packages (from matplotlib->catboost) (23.1)\n",
            "Requirement already satisfied: pillow>=6.2.0 in /usr/local/lib/python3.10/dist-packages (from matplotlib->catboost) (8.4.0)\n",
            "Requirement already satisfied: pyparsing>=2.3.1 in /usr/local/lib/python3.10/dist-packages (from matplotlib->catboost) (3.0.9)\n",
            "Requirement already satisfied: tenacity>=6.2.0 in /usr/local/lib/python3.10/dist-packages (from plotly->catboost) (8.2.2)\n",
            "Installing collected packages: catboost\n",
            "Successfully installed catboost-1.2\n"
          ]
        }
      ],
      "source": [
        "!pip install catboost"
      ]
    },
    {
      "cell_type": "code",
      "execution_count": 2,
      "id": "18a8e557",
      "metadata": {
        "id": "18a8e557"
      },
      "outputs": [],
      "source": [
        "import numpy as np\n",
        "import pandas as pd\n",
        "import seaborn as sns\n",
        "from catboost import CatBoostClassifier\n",
        "import string\n",
        "from scipy import stats\n",
        "from sklearn.model_selection import train_test_split\n",
        "from sklearn.metrics import f1_score,accuracy_score\n",
        "from sklearn import datasets\n"
      ]
    },
    {
      "cell_type": "code",
      "execution_count": 3,
      "id": "2037a10a",
      "metadata": {
        "id": "2037a10a"
      },
      "outputs": [],
      "source": [
        "import matplotlib.pyplot as plt\n",
        "import os"
      ]
    },
    {
      "cell_type": "code",
      "execution_count": 4,
      "id": "4de8c66b",
      "metadata": {
        "colab": {
          "base_uri": "https://localhost:8080/",
          "height": 165
        },
        "id": "4de8c66b",
        "outputId": "1a0b6516-8c02-42a8-b5e8-77b2553d668d"
      },
      "outputs": [
        {
          "output_type": "error",
          "ename": "FileNotFoundError",
          "evalue": "ignored",
          "traceback": [
            "\u001b[0;31m---------------------------------------------------------------------------\u001b[0m",
            "\u001b[0;31mFileNotFoundError\u001b[0m                         Traceback (most recent call last)",
            "\u001b[0;32m<ipython-input-4-1f65676c8749>\u001b[0m in \u001b[0;36m<cell line: 1>\u001b[0;34m()\u001b[0m\n\u001b[0;32m----> 1\u001b[0;31m \u001b[0mos\u001b[0m\u001b[0;34m.\u001b[0m\u001b[0mlistdir\u001b[0m\u001b[0;34m(\u001b[0m\u001b[0;34mr'E:\\Nirmala\\dataset project'\u001b[0m\u001b[0;34m)\u001b[0m\u001b[0;34m\u001b[0m\u001b[0;34m\u001b[0m\u001b[0m\n\u001b[0m",
            "\u001b[0;31mFileNotFoundError\u001b[0m: [Errno 2] No such file or directory: 'E:\\\\Nirmala\\\\dataset project'"
          ]
        }
      ],
      "source": [
        "os.listdir(r'E:\\Nirmala\\dataset project')"
      ]
    },
    {
      "cell_type": "code",
      "execution_count": null,
      "id": "51b88412",
      "metadata": {
        "id": "51b88412"
      },
      "outputs": [],
      "source": [
        "df=pd.read_csv('dataset updated 100.csv')"
      ]
    },
    {
      "cell_type": "code",
      "execution_count": null,
      "id": "5640989d",
      "metadata": {
        "id": "5640989d"
      },
      "outputs": [],
      "source": [
        "df"
      ]
    },
    {
      "cell_type": "markdown",
      "id": "79f3efdd",
      "metadata": {
        "id": "79f3efdd"
      },
      "source": [
        "# 2.Preprocessing"
      ]
    },
    {
      "cell_type": "code",
      "execution_count": null,
      "id": "921508c7",
      "metadata": {
        "id": "921508c7"
      },
      "outputs": [],
      "source": [
        "df['Document Title']=df['Document Title'].str.lower()\n",
        "df.head()"
      ]
    },
    {
      "cell_type": "code",
      "execution_count": null,
      "id": "223fbbe2",
      "metadata": {
        "id": "223fbbe2"
      },
      "outputs": [],
      "source": [
        "df['Author Keywords']=df['Author Keywords'].str.lower()\n",
        "df.head()"
      ]
    },
    {
      "cell_type": "code",
      "execution_count": null,
      "id": "e1aef659",
      "metadata": {
        "id": "e1aef659"
      },
      "outputs": [],
      "source": [
        "df['IEEE Terms']=df['IEEE Terms'].str.lower()\n",
        "df.head()"
      ]
    },
    {
      "cell_type": "code",
      "execution_count": null,
      "id": "401f05c6",
      "metadata": {
        "id": "401f05c6"
      },
      "outputs": [],
      "source": [
        "df_copy=df.copy()"
      ]
    },
    {
      "cell_type": "code",
      "execution_count": null,
      "id": "dd4ec912",
      "metadata": {
        "id": "dd4ec912"
      },
      "outputs": [],
      "source": [
        "df['doctitle']=df['Document Title']+df['Author Keywords']+df['IEEE Terms']\n",
        "df=df[['doctitle','dep']]\n",
        "df"
      ]
    },
    {
      "cell_type": "markdown",
      "id": "531785c0",
      "metadata": {
        "id": "531785c0"
      },
      "source": [
        "# 4.Stop words"
      ]
    },
    {
      "cell_type": "code",
      "execution_count": null,
      "id": "e61b6ff6",
      "metadata": {
        "id": "e61b6ff6"
      },
      "outputs": [],
      "source": [
        "import pandas as pd\n",
        "import nltk\n",
        "from nltk.corpus import stopwords\n",
        "nltk.download('stopwords')"
      ]
    },
    {
      "cell_type": "code",
      "execution_count": null,
      "id": "c25a8f2a",
      "metadata": {
        "id": "c25a8f2a"
      },
      "outputs": [],
      "source": [
        "stop_words=stopwords.words('english')"
      ]
    },
    {
      "cell_type": "code",
      "execution_count": null,
      "id": "e1880645",
      "metadata": {
        "id": "e1880645"
      },
      "outputs": [],
      "source": [
        "df"
      ]
    },
    {
      "cell_type": "code",
      "execution_count": null,
      "id": "dc9b79c2",
      "metadata": {
        "id": "dc9b79c2"
      },
      "outputs": [],
      "source": [
        "def remove_stop(x):\n",
        "    return \" \".join([word for word in str(x).split() if word not in stop_words])\n",
        "df['doctitle']=df['doctitle'].apply(lambda x: remove_stop(x))\n",
        "df"
      ]
    },
    {
      "cell_type": "markdown",
      "id": "4a77a383",
      "metadata": {
        "id": "4a77a383"
      },
      "source": [
        "# 5.Punctuation"
      ]
    },
    {
      "cell_type": "code",
      "execution_count": null,
      "id": "0d81fd3c",
      "metadata": {
        "id": "0d81fd3c"
      },
      "outputs": [],
      "source": [
        "string.punctuation"
      ]
    },
    {
      "cell_type": "code",
      "execution_count": null,
      "id": "baf6cb79",
      "metadata": {
        "id": "baf6cb79"
      },
      "outputs": [],
      "source": [
        "punct = string.punctuation"
      ]
    },
    {
      "cell_type": "code",
      "execution_count": null,
      "id": "fcdcbdc4",
      "metadata": {
        "id": "fcdcbdc4"
      },
      "outputs": [],
      "source": [
        "def remove_punct(x):\n",
        "    return x.translate(str.maketrans(\"\",\"\", punct))"
      ]
    },
    {
      "cell_type": "code",
      "execution_count": null,
      "id": "caafd4a0",
      "metadata": {
        "id": "caafd4a0"
      },
      "outputs": [],
      "source": [
        "df['doctitle']=df['doctitle'].apply(lambda x: remove_punct(x))"
      ]
    },
    {
      "cell_type": "code",
      "execution_count": null,
      "id": "d49501ce",
      "metadata": {
        "id": "d49501ce"
      },
      "outputs": [],
      "source": [
        "df\n"
      ]
    },
    {
      "cell_type": "code",
      "execution_count": null,
      "id": "dbbad45d",
      "metadata": {
        "id": "dbbad45d"
      },
      "outputs": [],
      "source": [
        "def remove_punct(x):\n",
        "    return y.translate(str.maketrans(\" \",\" \", punct))"
      ]
    },
    {
      "cell_type": "code",
      "execution_count": null,
      "id": "6ee7ebf3",
      "metadata": {
        "id": "6ee7ebf3"
      },
      "outputs": [],
      "source": [
        "df_copy=df.copy()"
      ]
    },
    {
      "cell_type": "code",
      "execution_count": null,
      "id": "d7142d6b",
      "metadata": {
        "id": "d7142d6b"
      },
      "outputs": [],
      "source": [
        "from nltk.stem.snowball import SnowballStemmer"
      ]
    },
    {
      "cell_type": "code",
      "execution_count": null,
      "id": "5fce2010",
      "metadata": {
        "id": "5fce2010"
      },
      "outputs": [],
      "source": [
        "stemmer = SnowballStemmer(language='english')"
      ]
    },
    {
      "cell_type": "code",
      "execution_count": null,
      "id": "9f51b6d0",
      "metadata": {
        "id": "9f51b6d0"
      },
      "outputs": [],
      "source": [
        "q0_stm = [stemmer.stem(word) for word in df['doctitle']]"
      ]
    },
    {
      "cell_type": "code",
      "execution_count": null,
      "id": "a275f7f8",
      "metadata": {
        "id": "a275f7f8"
      },
      "outputs": [],
      "source": [
        "df['doctitle']"
      ]
    },
    {
      "cell_type": "code",
      "execution_count": null,
      "id": "62f1c41e",
      "metadata": {
        "id": "62f1c41e"
      },
      "outputs": [],
      "source": [
        "q0_stm"
      ]
    },
    {
      "cell_type": "code",
      "execution_count": null,
      "id": "af266e5b",
      "metadata": {
        "id": "af266e5b"
      },
      "outputs": [],
      "source": [
        "q1_stm = [stemmer.stem(word) for word in df['doctitle']]"
      ]
    },
    {
      "cell_type": "code",
      "execution_count": null,
      "id": "72790ab2",
      "metadata": {
        "id": "72790ab2"
      },
      "outputs": [],
      "source": [
        "q1_stm"
      ]
    },
    {
      "cell_type": "code",
      "execution_count": null,
      "id": "da34e4ca",
      "metadata": {
        "id": "da34e4ca"
      },
      "outputs": [],
      "source": [
        "df_copy=df.copy()"
      ]
    },
    {
      "cell_type": "markdown",
      "id": "3720494a",
      "metadata": {
        "id": "3720494a"
      },
      "source": [
        "# 7.Lemmatization"
      ]
    },
    {
      "cell_type": "code",
      "execution_count": null,
      "id": "19fb2dea",
      "metadata": {
        "id": "19fb2dea"
      },
      "outputs": [],
      "source": [
        "import pandas as pd\n",
        "import numpy as np\n",
        "import matplotlib.pyplot as plt\n",
        "\n",
        "from sklearn import preprocessing"
      ]
    },
    {
      "cell_type": "code",
      "execution_count": null,
      "id": "2c463ab7",
      "metadata": {
        "id": "2c463ab7"
      },
      "outputs": [],
      "source": [
        "from sklearn.feature_extraction.text import CountVectorizer\n",
        "corpus=df['doctitle']\n",
        "cv = CountVectorizer()\n",
        "X=cv.fit_transform(corpus)\n",
        "#cv = CountVectorizer()\n",
        "print(cv.vocabulary_)\n",
        "print(cv.get_feature_names_out())"
      ]
    },
    {
      "cell_type": "code",
      "execution_count": null,
      "id": "5e088c19",
      "metadata": {
        "id": "5e088c19"
      },
      "outputs": [],
      "source": [
        "df1=pd.DataFrame(X.toarray())"
      ]
    },
    {
      "cell_type": "code",
      "execution_count": null,
      "id": "74531dc8",
      "metadata": {
        "id": "74531dc8"
      },
      "outputs": [],
      "source": [
        "df1"
      ]
    },
    {
      "cell_type": "code",
      "execution_count": null,
      "id": "7ba9c161",
      "metadata": {
        "id": "7ba9c161"
      },
      "outputs": [],
      "source": [
        "vect_df=pd.concat((df1,df.dep),axis=1)\n",
        "vect_df"
      ]
    },
    {
      "cell_type": "code",
      "execution_count": null,
      "id": "34dc1444",
      "metadata": {
        "id": "34dc1444"
      },
      "outputs": [],
      "source": [
        "from sklearn import preprocessing\n",
        "label_encoder = preprocessing.LabelEncoder()\n",
        "df['dep']= label_encoder.fit_transform(df['dep'])\n",
        "df['dep'].unique()"
      ]
    },
    {
      "cell_type": "code",
      "execution_count": null,
      "id": "ceafc35d",
      "metadata": {
        "id": "ceafc35d"
      },
      "outputs": [],
      "source": [
        "vect_df"
      ]
    },
    {
      "cell_type": "code",
      "execution_count": null,
      "id": "235c9a54",
      "metadata": {
        "id": "235c9a54"
      },
      "outputs": [],
      "source": [
        "cat_features = list(range(0, X.shape[1]))\n",
        "print(cat_features)"
      ]
    },
    {
      "cell_type": "code",
      "execution_count": null,
      "id": "56058827",
      "metadata": {
        "id": "56058827"
      },
      "outputs": [],
      "source": [
        "vect_df['dep']=df['dep']\n",
        "vect_df"
      ]
    },
    {
      "cell_type": "code",
      "execution_count": null,
      "id": "22456908",
      "metadata": {
        "id": "22456908"
      },
      "outputs": [],
      "source": [
        "df.isnull().sum(axis=0)"
      ]
    },
    {
      "cell_type": "code",
      "execution_count": null,
      "id": "290332d2",
      "metadata": {
        "id": "290332d2"
      },
      "outputs": [],
      "source": [
        "X_train = df.drop(\"doctitle\", axis=1)\n",
        "y_train = df[\"doctitle\"]"
      ]
    },
    {
      "cell_type": "code",
      "execution_count": null,
      "id": "30e74f5e",
      "metadata": {
        "id": "30e74f5e"
      },
      "outputs": [],
      "source": [
        "X=vect_df.drop('dep',axis=1)\n",
        "y=vect_df['dep']"
      ]
    },
    {
      "cell_type": "code",
      "execution_count": null,
      "id": "6b01289b",
      "metadata": {
        "id": "6b01289b"
      },
      "outputs": [],
      "source": [
        "# Let's ensure the model is trained and fit well\n",
        "cat_features_index = np.where(X_train.dtypes != float)[0]"
      ]
    },
    {
      "cell_type": "code",
      "execution_count": null,
      "id": "67b1377d",
      "metadata": {
        "id": "67b1377d"
      },
      "outputs": [],
      "source": [
        "from sklearn.model_selection import train_test_split\n",
        "\n",
        "X_train, x_test, y_train, y_test = train_test_split(X, y, train_size=0.85, random_state=1234)\n"
      ]
    },
    {
      "cell_type": "code",
      "execution_count": null,
      "id": "b23977da",
      "metadata": {
        "id": "b23977da"
      },
      "outputs": [],
      "source": [
        "from catboost import CatBoostClassifier\n",
        "model = CatBoostClassifier(\n",
        "    custom_loss=['Accuracy'],\n",
        "    random_seed=42)"
      ]
    },
    {
      "cell_type": "code",
      "execution_count": null,
      "id": "e474919f",
      "metadata": {
        "id": "e474919f"
      },
      "outputs": [],
      "source": [
        "model = CatBoostClassifier(eval_metric='Accuracy', use_best_model=True, random_seed=42)"
      ]
    },
    {
      "cell_type": "code",
      "execution_count": null,
      "id": "2d45a6b2",
      "metadata": {
        "id": "2d45a6b2"
      },
      "outputs": [],
      "source": [
        "model.fit(X_train, y_train, cat_features=cat_features_index, eval_set=(x_test, y_test))"
      ]
    },
    {
      "cell_type": "code",
      "execution_count": null,
      "id": "3ab04036",
      "metadata": {
        "id": "3ab04036"
      },
      "outputs": [],
      "source": [
        "from catboost import cv\n",
        "from sklearn.metrics import accuracy_score\n",
        "print('the test accuracy is :{:.6f}'.format(accuracy_score(y_test,model.predict(x_test))))"
      ]
    },
    {
      "cell_type": "code",
      "execution_count": null,
      "id": "f1f1e8d8",
      "metadata": {
        "id": "f1f1e8d8"
      },
      "outputs": [],
      "source": [
        "pred=model.predict(x_test)"
      ]
    },
    {
      "cell_type": "code",
      "execution_count": null,
      "id": "24c4bcfe",
      "metadata": {
        "id": "24c4bcfe"
      },
      "outputs": [],
      "source": [
        "from sklearn.metrics import classification_report,confusion_matrix"
      ]
    },
    {
      "cell_type": "code",
      "execution_count": null,
      "id": "a7a57de9",
      "metadata": {
        "id": "a7a57de9"
      },
      "outputs": [],
      "source": [
        "print(confusion_matrix(y_test,pred))"
      ]
    },
    {
      "cell_type": "code",
      "execution_count": null,
      "id": "bed28190",
      "metadata": {
        "id": "bed28190"
      },
      "outputs": [],
      "source": [
        "print(classification_report(y_test,pred))"
      ]
    },
    {
      "cell_type": "code",
      "execution_count": null,
      "id": "eb41e9f3",
      "metadata": {
        "id": "eb41e9f3"
      },
      "outputs": [],
      "source": []
    }
  ],
  "metadata": {
    "kernelspec": {
      "display_name": "Python 3 (ipykernel)",
      "language": "python",
      "name": "python3"
    },
    "language_info": {
      "codemirror_mode": {
        "name": "ipython",
        "version": 3
      },
      "file_extension": ".py",
      "mimetype": "text/x-python",
      "name": "python",
      "nbconvert_exporter": "python",
      "pygments_lexer": "ipython3",
      "version": "3.9.12"
    },
    "colab": {
      "provenance": [],
      "gpuType": "T4",
      "include_colab_link": true
    },
    "accelerator": "GPU",
    "gpuClass": "standard"
  },
  "nbformat": 4,
  "nbformat_minor": 5
}